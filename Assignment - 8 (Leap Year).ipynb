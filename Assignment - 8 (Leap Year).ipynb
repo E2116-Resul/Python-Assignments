{
 "cells": [
  {
   "cell_type": "code",
   "execution_count": 1,
   "metadata": {},
   "outputs": [
    {
     "name": "stdout",
     "output_type": "stream",
     "text": [
      "Enter a year: 2019\n",
      "2019 is not a leap year\n"
     ]
    }
   ],
   "source": [
    "year = input('Enter a year: ')\n",
    "\n",
    "while not year.isdigit()  or int(year) <= 0:\n",
    "    year = input('Enter a year: ')\n",
    "\n",
    "if int(year) % 400 == 0 or (int(year) % 100 != 0 and int(year) % 4 == 0):\n",
    "    print(\"{} is a leap year\".format(year))\n",
    "    \n",
    "else:\n",
    "    print(\"{} is not a leap year\".format(year))"
   ]
  }
 ],
 "metadata": {
  "kernelspec": {
   "display_name": "Python 3",
   "language": "python",
   "name": "python3"
  },
  "language_info": {
   "codemirror_mode": {
    "name": "ipython",
    "version": 3
   },
   "file_extension": ".py",
   "mimetype": "text/x-python",
   "name": "python",
   "nbconvert_exporter": "python",
   "pygments_lexer": "ipython3",
   "version": "3.7.6"
  }
 },
 "nbformat": 4,
 "nbformat_minor": 4
}
