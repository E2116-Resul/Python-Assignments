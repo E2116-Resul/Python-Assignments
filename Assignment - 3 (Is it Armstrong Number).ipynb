{
 "cells": [
  {
   "cell_type": "code",
   "execution_count": 1,
   "metadata": {},
   "outputs": [
    {
     "name": "stdout",
     "output_type": "stream",
     "text": [
      "Enter a positive integer number : 371\n",
      "371 is an Armstrong number\n"
     ]
    }
   ],
   "source": [
    "num = input(\"Enter a positive integer number : \")\n",
    "num_list = list(num)\n",
    "i = 0\n",
    "total = 0\n",
    "if num.isdigit():\n",
    "    while i <= (len(num_list)-1):\n",
    "        total += int(num_list[i]) ** len(num_list)\n",
    "        i += 1\n",
    "    if total == int(num):\n",
    "        print(\"{} is an Armstrong number\".format(num))\n",
    "\n",
    "    else:\n",
    "        print(\"{} is NOT an Armstrong number\".format(num))\n",
    "else: \n",
    "    print(\"It is an invalid entry. Don't use non-numeric, float, or negative values!\")  "
   ]
  }
 ],
 "metadata": {
  "kernelspec": {
   "display_name": "Python 3",
   "language": "python",
   "name": "python3"
  },
  "language_info": {
   "codemirror_mode": {
    "name": "ipython",
    "version": 3
   },
   "file_extension": ".py",
   "mimetype": "text/x-python",
   "name": "python",
   "nbconvert_exporter": "python",
   "pygments_lexer": "ipython3",
   "version": "3.7.6"
  }
 },
 "nbformat": 4,
 "nbformat_minor": 4
}
