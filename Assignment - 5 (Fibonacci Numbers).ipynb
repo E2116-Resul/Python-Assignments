{
 "cells": [
  {
   "cell_type": "code",
   "execution_count": 1,
   "metadata": {},
   "outputs": [
    {
     "name": "stdout",
     "output_type": "stream",
     "text": [
      "Enter a positive number: 55\n",
      "Fibonacci number of from 1 to 55 is : [0, 1, 1, 2, 3, 5, 8, 13, 21, 34, 55]\n"
     ]
    }
   ],
   "source": [
    "number = input(\"Enter a positive number: \")\n",
    "\n",
    "while not number.isdigit()  or int(number) <= 0:\n",
    "    number = input(\"Enter a positive number: \")\n",
    "fibonacci = []   \n",
    "a = 0\n",
    "b = 1\n",
    "c = 0\n",
    "while c <= int(number):\n",
    "    fibonacci.append(c) \n",
    "    a = b\n",
    "    b = c\n",
    "    c = a + b\n",
    "print(\"Fibonacci number of from 1 to {} is : {}\".format(int(number), fibonacci))"
   ]
  }
 ],
 "metadata": {
  "kernelspec": {
   "display_name": "Python 3",
   "language": "python",
   "name": "python3"
  },
  "language_info": {
   "codemirror_mode": {
    "name": "ipython",
    "version": 3
   },
   "file_extension": ".py",
   "mimetype": "text/x-python",
   "name": "python",
   "nbconvert_exporter": "python",
   "pygments_lexer": "ipython3",
   "version": "3.7.6"
  }
 },
 "nbformat": 4,
 "nbformat_minor": 4
}
