{
 "cells": [
  {
   "cell_type": "code",
   "execution_count": 1,
   "metadata": {},
   "outputs": [
    {
     "name": "stdout",
     "output_type": "stream",
     "text": [
      "Enter a positive number: -5\n",
      "Enter a positive number: a\n",
      "Enter a positive number: 19\n",
      "19 is a prime number\n"
     ]
    }
   ],
   "source": [
    "number = input('Enter a positive number: ')\n",
    "\n",
    "while not number.isdigit()  or int(number) <= 0:\n",
    "    number = input('Enter a positive number: ')\n",
    "ii = 1\n",
    "for i in range(1, int(number)):\n",
    "    if  int(number) % i == 0:\n",
    "        ii += 1\n",
    "        i += 1 \n",
    "    else:\n",
    "         i += 1       \n",
    "if ii == 2:\n",
    "    print(\"{} is a prime number\".format(number))\n",
    "else:\n",
    "    print(\"{} is NOT a prime number\".format(number))"
   ]
  }
 ],
 "metadata": {
  "kernelspec": {
   "display_name": "Python 3",
   "language": "python",
   "name": "python3"
  },
  "language_info": {
   "codemirror_mode": {
    "name": "ipython",
    "version": 3
   },
   "file_extension": ".py",
   "mimetype": "text/x-python",
   "name": "python",
   "nbconvert_exporter": "python",
   "pygments_lexer": "ipython3",
   "version": "3.7.6"
  }
 },
 "nbformat": 4,
 "nbformat_minor": 4
}
