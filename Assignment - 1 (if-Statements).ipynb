{
 "cells": [
  {
   "cell_type": "code",
   "execution_count": 1,
   "metadata": {},
   "outputs": [
    {
     "name": "stdout",
     "output_type": "stream",
     "text": [
      "Enter your name: Resul\n",
      "Hello, Resul! The password is : 123qwe\n"
     ]
    }
   ],
   "source": [
    "name = input(\"Enter your name: \").title().strip()\n",
    "\n",
    "if name == 'Resul':\n",
    "    print(\"Hello, Resul! The password is : 123qwe\")\n",
    "else:\n",
    "    print(\"Hello, {}! See you later.\".format(name))"
   ]
  }
 ],
 "metadata": {
  "kernelspec": {
   "display_name": "Python 3",
   "language": "python",
   "name": "python3"
  },
  "language_info": {
   "codemirror_mode": {
    "name": "ipython",
    "version": 3
   },
   "file_extension": ".py",
   "mimetype": "text/x-python",
   "name": "python",
   "nbconvert_exporter": "python",
   "pygments_lexer": "ipython3",
   "version": "3.7.6"
  }
 },
 "nbformat": 4,
 "nbformat_minor": 4
}
